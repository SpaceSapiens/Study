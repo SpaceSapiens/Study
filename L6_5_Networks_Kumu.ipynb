{
  "cells": [
    {
      "cell_type": "markdown",
      "metadata": {
        "id": "view-in-github",
        "colab_type": "text"
      },
      "source": [
        "<a href=\"https://colab.research.google.com/github/SpaceSapiens/Study/blob/IITM/L6_5_Networks_Kumu.ipynb\" target=\"_parent\"><img src=\"https://colab.research.google.com/assets/colab-badge.svg\" alt=\"Open In Colab\"/></a>"
      ]
    },
    {
      "cell_type": "code",
      "execution_count": null,
      "metadata": {
        "id": "oRhCBO947Foz"
      },
      "outputs": [],
      "source": [
        "import numpy as np\n",
        "import pandas as pd\n",
        "import os"
      ]
    },
    {
      "cell_type": "code",
      "source": [
        "os.listdir()"
      ],
      "metadata": {
        "colab": {
          "base_uri": "https://localhost:8080/"
        },
        "id": "nyYoz6mlIQPZ",
        "outputId": "e8dceae3-c795-4bb4-e2fb-acce24992aeb"
      },
      "execution_count": null,
      "outputs": [
        {
          "output_type": "execute_result",
          "data": {
            "text/plain": [
              "['.config', 'sample_data']"
            ]
          },
          "metadata": {},
          "execution_count": 2
        }
      ]
    },
    {
      "cell_type": "code",
      "execution_count": null,
      "metadata": {
        "colab": {
          "base_uri": "https://localhost:8080/"
        },
        "id": "ddh680Po7Kuy",
        "outputId": "04ca7c46-8ff8-41fe-a9dd-2d7582c492bb"
      },
      "outputs": [
        {
          "output_type": "stream",
          "name": "stdout",
          "text": [
            "rm: cannot remove '*.tsv.gz': No such file or directory\n",
            "total 1117332\n",
            "drwxr-xr-x 1 root root      4096 Mar 23 11:07 .\n",
            "drwxr-xr-x 1 root root      4096 Mar 23 10:56 ..\n",
            "drwxr-xr-x 4 root root      4096 Mar 21 22:53 .config\n",
            "-rw-r--r-- 1 root root 242796056 Mar 22 13:16 name.basics.tsv.gz\n",
            "drwxr-xr-x 1 root root      4096 Mar 21 22:54 sample_data\n",
            "-rw-r--r-- 1 root root 299886705 Mar 22 13:16 title.akas.tsv.gz\n",
            "-rw-r--r-- 1 root root 169658860 Mar 22 13:16 title.basics.tsv.gz\n",
            "-rw-r--r-- 1 root root 431770513 Mar 22 13:16 title.principals.tsv.gz\n"
          ]
        }
      ],
      "source": [
        "# Download the data\n",
        "!rm *.tsv.gz\n",
        "!wget -q https://datasets.imdbws.com/name.basics.tsv.gz\n",
        "!wget -q https://datasets.imdbws.com/title.principals.tsv.gz\n",
        "!wget -q https://datasets.imdbws.com/title.basics.tsv.gz\n",
        "!wget -q https://datasets.imdbws.com/title.akas.tsv.gz\n",
        "!ls -la"
      ]
    },
    {
      "cell_type": "code",
      "execution_count": null,
      "metadata": {
        "colab": {
          "base_uri": "https://localhost:8080/",
          "height": 272
        },
        "id": "aMMtJGk-7Zn8",
        "outputId": "c74ebc48-c48b-4020-cf5f-509681540c67"
      },
      "outputs": [
        {
          "output_type": "stream",
          "name": "stderr",
          "text": [
            "<ipython-input-4-27b40326917d>:2: DtypeWarning: Columns (4) have mixed types. Specify dtype option on import or set low_memory=False.\n",
            "  title = pd.read_csv('title.basics.tsv.gz', sep='\\t', low_memory=True).set_index('tconst')[['titleType', 'primaryTitle', 'startYear']]\n"
          ]
        },
        {
          "output_type": "execute_result",
          "data": {
            "text/plain": [
              "          titleType            primaryTitle startYear\n",
              "tconst                                               \n",
              "tt0000001     short              Carmencita      1894\n",
              "tt0000002     short  Le clown et ses chiens      1892\n",
              "tt0000003     short          Pauvre Pierrot      1892\n",
              "tt0000004     short             Un bon bock      1892\n",
              "tt0000005     short        Blacksmith Scene      1893"
            ],
            "text/html": [
              "\n",
              "  <div id=\"df-247b31e0-70f3-4885-9f3c-1508313cee13\">\n",
              "    <div class=\"colab-df-container\">\n",
              "      <div>\n",
              "<style scoped>\n",
              "    .dataframe tbody tr th:only-of-type {\n",
              "        vertical-align: middle;\n",
              "    }\n",
              "\n",
              "    .dataframe tbody tr th {\n",
              "        vertical-align: top;\n",
              "    }\n",
              "\n",
              "    .dataframe thead th {\n",
              "        text-align: right;\n",
              "    }\n",
              "</style>\n",
              "<table border=\"1\" class=\"dataframe\">\n",
              "  <thead>\n",
              "    <tr style=\"text-align: right;\">\n",
              "      <th></th>\n",
              "      <th>titleType</th>\n",
              "      <th>primaryTitle</th>\n",
              "      <th>startYear</th>\n",
              "    </tr>\n",
              "    <tr>\n",
              "      <th>tconst</th>\n",
              "      <th></th>\n",
              "      <th></th>\n",
              "      <th></th>\n",
              "    </tr>\n",
              "  </thead>\n",
              "  <tbody>\n",
              "    <tr>\n",
              "      <th>tt0000001</th>\n",
              "      <td>short</td>\n",
              "      <td>Carmencita</td>\n",
              "      <td>1894</td>\n",
              "    </tr>\n",
              "    <tr>\n",
              "      <th>tt0000002</th>\n",
              "      <td>short</td>\n",
              "      <td>Le clown et ses chiens</td>\n",
              "      <td>1892</td>\n",
              "    </tr>\n",
              "    <tr>\n",
              "      <th>tt0000003</th>\n",
              "      <td>short</td>\n",
              "      <td>Pauvre Pierrot</td>\n",
              "      <td>1892</td>\n",
              "    </tr>\n",
              "    <tr>\n",
              "      <th>tt0000004</th>\n",
              "      <td>short</td>\n",
              "      <td>Un bon bock</td>\n",
              "      <td>1892</td>\n",
              "    </tr>\n",
              "    <tr>\n",
              "      <th>tt0000005</th>\n",
              "      <td>short</td>\n",
              "      <td>Blacksmith Scene</td>\n",
              "      <td>1893</td>\n",
              "    </tr>\n",
              "  </tbody>\n",
              "</table>\n",
              "</div>\n",
              "      <button class=\"colab-df-convert\" onclick=\"convertToInteractive('df-247b31e0-70f3-4885-9f3c-1508313cee13')\"\n",
              "              title=\"Convert this dataframe to an interactive table.\"\n",
              "              style=\"display:none;\">\n",
              "        \n",
              "  <svg xmlns=\"http://www.w3.org/2000/svg\" height=\"24px\"viewBox=\"0 0 24 24\"\n",
              "       width=\"24px\">\n",
              "    <path d=\"M0 0h24v24H0V0z\" fill=\"none\"/>\n",
              "    <path d=\"M18.56 5.44l.94 2.06.94-2.06 2.06-.94-2.06-.94-.94-2.06-.94 2.06-2.06.94zm-11 1L8.5 8.5l.94-2.06 2.06-.94-2.06-.94L8.5 2.5l-.94 2.06-2.06.94zm10 10l.94 2.06.94-2.06 2.06-.94-2.06-.94-.94-2.06-.94 2.06-2.06.94z\"/><path d=\"M17.41 7.96l-1.37-1.37c-.4-.4-.92-.59-1.43-.59-.52 0-1.04.2-1.43.59L10.3 9.45l-7.72 7.72c-.78.78-.78 2.05 0 2.83L4 21.41c.39.39.9.59 1.41.59.51 0 1.02-.2 1.41-.59l7.78-7.78 2.81-2.81c.8-.78.8-2.07 0-2.86zM5.41 20L4 18.59l7.72-7.72 1.47 1.35L5.41 20z\"/>\n",
              "  </svg>\n",
              "      </button>\n",
              "      \n",
              "  <style>\n",
              "    .colab-df-container {\n",
              "      display:flex;\n",
              "      flex-wrap:wrap;\n",
              "      gap: 12px;\n",
              "    }\n",
              "\n",
              "    .colab-df-convert {\n",
              "      background-color: #E8F0FE;\n",
              "      border: none;\n",
              "      border-radius: 50%;\n",
              "      cursor: pointer;\n",
              "      display: none;\n",
              "      fill: #1967D2;\n",
              "      height: 32px;\n",
              "      padding: 0 0 0 0;\n",
              "      width: 32px;\n",
              "    }\n",
              "\n",
              "    .colab-df-convert:hover {\n",
              "      background-color: #E2EBFA;\n",
              "      box-shadow: 0px 1px 2px rgba(60, 64, 67, 0.3), 0px 1px 3px 1px rgba(60, 64, 67, 0.15);\n",
              "      fill: #174EA6;\n",
              "    }\n",
              "\n",
              "    [theme=dark] .colab-df-convert {\n",
              "      background-color: #3B4455;\n",
              "      fill: #D2E3FC;\n",
              "    }\n",
              "\n",
              "    [theme=dark] .colab-df-convert:hover {\n",
              "      background-color: #434B5C;\n",
              "      box-shadow: 0px 1px 3px 1px rgba(0, 0, 0, 0.15);\n",
              "      filter: drop-shadow(0px 1px 2px rgba(0, 0, 0, 0.3));\n",
              "      fill: #FFFFFF;\n",
              "    }\n",
              "  </style>\n",
              "\n",
              "      <script>\n",
              "        const buttonEl =\n",
              "          document.querySelector('#df-247b31e0-70f3-4885-9f3c-1508313cee13 button.colab-df-convert');\n",
              "        buttonEl.style.display =\n",
              "          google.colab.kernel.accessAllowed ? 'block' : 'none';\n",
              "\n",
              "        async function convertToInteractive(key) {\n",
              "          const element = document.querySelector('#df-247b31e0-70f3-4885-9f3c-1508313cee13');\n",
              "          const dataTable =\n",
              "            await google.colab.kernel.invokeFunction('convertToInteractive',\n",
              "                                                     [key], {});\n",
              "          if (!dataTable) return;\n",
              "\n",
              "          const docLinkHtml = 'Like what you see? Visit the ' +\n",
              "            '<a target=\"_blank\" href=https://colab.research.google.com/notebooks/data_table.ipynb>data table notebook</a>'\n",
              "            + ' to learn more about interactive tables.';\n",
              "          element.innerHTML = '';\n",
              "          dataTable['output_type'] = 'display_data';\n",
              "          await google.colab.output.renderOutput(dataTable, element);\n",
              "          const docLink = document.createElement('div');\n",
              "          docLink.innerHTML = docLinkHtml;\n",
              "          element.appendChild(docLink);\n",
              "        }\n",
              "      </script>\n",
              "    </div>\n",
              "  </div>\n",
              "  "
            ]
          },
          "metadata": {},
          "execution_count": 4
        }
      ],
      "source": [
        "# Load the titles\n",
        "title = pd.read_csv('title.basics.tsv.gz', sep='\\t', low_memory=True).set_index('tconst')[['titleType', 'primaryTitle', 'startYear']]\n"
      ]
    },
    {
      "cell_type": "code",
      "source": [
        "title.head()"
      ],
      "metadata": {
        "id": "gWPd6EyIMvKK"
      },
      "execution_count": null,
      "outputs": []
    },
    {
      "cell_type": "code",
      "source": [
        "title.dtypes"
      ],
      "metadata": {
        "id": "tMfBo3BdM3uP"
      },
      "execution_count": null,
      "outputs": []
    },
    {
      "cell_type": "code",
      "source": [
        "title=title[title['startYear']>='1990']"
      ],
      "metadata": {
        "id": "yrQi25B2NHt5"
      },
      "execution_count": null,
      "outputs": []
    },
    {
      "cell_type": "code",
      "execution_count": null,
      "metadata": {
        "id": "YNGuyRhu7nF4",
        "colab": {
          "base_uri": "https://localhost:8080/",
          "height": 235
        },
        "outputId": "75874232-f4a5-4ada-e1eb-1676feaa03c0"
      },
      "outputs": [
        {
          "output_type": "error",
          "ename": "NameError",
          "evalue": "ignored",
          "traceback": [
            "\u001b[0;31m---------------------------------------------------------------------------\u001b[0m",
            "\u001b[0;31mNameError\u001b[0m                                 Traceback (most recent call last)",
            "\u001b[0;32m<ipython-input-1-9f52f863f346>\u001b[0m in \u001b[0;36m<module>\u001b[0;34m\u001b[0m\n\u001b[1;32m      1\u001b[0m \u001b[0;31m# Load the cast of each film\u001b[0m\u001b[0;34m\u001b[0m\u001b[0;34m\u001b[0m\u001b[0m\n\u001b[0;32m----> 2\u001b[0;31m \u001b[0mcast\u001b[0m \u001b[0;34m=\u001b[0m\u001b[0mpd\u001b[0m\u001b[0;34m.\u001b[0m\u001b[0mread_csv\u001b[0m\u001b[0;34m(\u001b[0m\u001b[0;34m'title.principals.tsv.gz'\u001b[0m\u001b[0;34m,\u001b[0m \u001b[0msep\u001b[0m\u001b[0;34m=\u001b[0m\u001b[0;34m'\\t'\u001b[0m\u001b[0;34m,\u001b[0m \u001b[0mlow_memory\u001b[0m\u001b[0;34m=\u001b[0m\u001b[0;32mTrue\u001b[0m\u001b[0;34m)\u001b[0m\u001b[0;34m[\u001b[0m\u001b[0;34m[\u001b[0m\u001b[0;34m'tconst'\u001b[0m\u001b[0;34m,\u001b[0m \u001b[0;34m'nconst'\u001b[0m\u001b[0;34m,\u001b[0m \u001b[0;34m'category'\u001b[0m\u001b[0;34m]\u001b[0m\u001b[0;34m]\u001b[0m\u001b[0;34m\u001b[0m\u001b[0;34m\u001b[0m\u001b[0m\n\u001b[0m\u001b[1;32m      3\u001b[0m \u001b[0;31m# Only consider actors, not directors, composers, etc. Shrinks data to about 40%\u001b[0m\u001b[0;34m\u001b[0m\u001b[0;34m\u001b[0m\u001b[0m\n\u001b[1;32m      4\u001b[0m \u001b[0mcast\u001b[0m \u001b[0;34m=\u001b[0m \u001b[0mcast\u001b[0m\u001b[0;34m[\u001b[0m\u001b[0mcast\u001b[0m\u001b[0;34m.\u001b[0m\u001b[0mcategory\u001b[0m\u001b[0;34m.\u001b[0m\u001b[0misin\u001b[0m\u001b[0;34m(\u001b[0m\u001b[0;34m{\u001b[0m\u001b[0;34m'actor'\u001b[0m\u001b[0;34m,\u001b[0m \u001b[0;34m'actress'\u001b[0m\u001b[0;34m}\u001b[0m\u001b[0;34m)\u001b[0m\u001b[0;34m]\u001b[0m\u001b[0;34m\u001b[0m\u001b[0;34m\u001b[0m\u001b[0m\n\u001b[1;32m      5\u001b[0m \u001b[0mcast\u001b[0m\u001b[0;34m.\u001b[0m\u001b[0mhead\u001b[0m\u001b[0;34m(\u001b[0m\u001b[0;34m)\u001b[0m\u001b[0;34m\u001b[0m\u001b[0;34m\u001b[0m\u001b[0m\n",
            "\u001b[0;31mNameError\u001b[0m: name 'pd' is not defined"
          ]
        }
      ],
      "source": [
        "# Load the cast of each film\n",
        "cast =pd.read_csv('title.principals.tsv.gz', sep='\\t', low_memory=True)[['tconst', 'nconst', 'category']]\n",
        "# Only consider actors, not directors, composers, etc. Shrinks data to about 40%\n",
        "cast = cast[cast.category.isin({'actor', 'actress'})]\n",
        "cast.head()"
      ]
    },
    {
      "cell_type": "code",
      "execution_count": null,
      "metadata": {
        "id": "tziMlzUX7paI"
      },
      "outputs": [],
      "source": [
        "# Only consider movies, not TV series, etc. Shrinks data to ~5%\n",
        "movies = title[title['titleType'] == 'movie']\n",
        "cast = cast[cast['tconst'].isin(movies.index)]\n",
        "# This is what the network looks like\n",
        "cast.head()"
      ]
    },
    {
      "cell_type": "code",
      "execution_count": null,
      "metadata": {
        "id": "O1Zr38DY7pxI"
      },
      "outputs": [],
      "source": [
        "# Restrict data to just a single region (e.g. IN, US, etc)\n",
        "# This loads the region for each title\n",
        "region = pd.read_csv('title.akas.tsv.gz', sep='\\t', low_memory=True).set_index('titleId')['region']\n",
        "region.value_counts().head(10)"
      ]
    },
    {
      "cell_type": "code",
      "source": [
        "region.head()"
      ],
      "metadata": {
        "id": "xo1z1he1Ngcg"
      },
      "execution_count": null,
      "outputs": []
    },
    {
      "cell_type": "code",
      "execution_count": null,
      "metadata": {
        "id": "w-Zws6xl7rvY"
      },
      "outputs": [],
      "source": [
        "# Load the name data along with birth year\n",
        "name = pd.read_csv('name.basics.tsv.gz', sep='\\t', na_values='\\\\N', dtype={'birthYear': float}).set_index('nconst')[['primaryName', 'birthYear']]"
      ]
    },
    {
      "cell_type": "code",
      "execution_count": null,
      "metadata": {
        "id": "3MGar2VJe5Jp"
      },
      "outputs": [],
      "source": [
        "name.head()"
      ]
    },
    {
      "cell_type": "code",
      "execution_count": null,
      "metadata": {
        "id": "TKeHT5snD2i3"
      },
      "outputs": [],
      "source": [
        "from scipy.sparse import csr_matrix"
      ]
    },
    {
      "cell_type": "code",
      "execution_count": null,
      "metadata": {
        "id": "PNIpXvWU7t-0"
      },
      "outputs": [],
      "source": [
        "def get_pairs(lang=None, min_acted=1, min_pairings=1):\n",
        "    '''\n",
        "    Returns an adjacency matrix and actor mapping of actor pairs where:\n",
        "    - Each actor has acted in at least min_acted films\n",
        "    - The two actors have acted together in at least min_pairings films\n",
        "    - And (optionally), belong to a region `lang` (IN, UN, etc)\n",
        "    '''\n",
        "    graph = cast\n",
        "    if lang is not None:\n",
        "        graph = graph[graph['tconst'].isin(region[region == lang].index)]\n",
        "    name_freq = graph['nconst'].value_counts()\n",
        "    top_names = name_freq[name_freq >= min_acted]\n",
        "    top_actors = graph[graph['nconst'].isin(top_names.index)]\n",
        "\n",
        "    p = top_actors.copy()\n",
        "    p['title'] = p['tconst'].astype('category')\n",
        "    p['name'] = p['nconst'].astype('category')\n",
        "\n",
        "    row = p['title'].cat.codes.values\n",
        "    col = p['name'].cat.codes.values\n",
        "    data = np.ones(len(p), dtype='int')\n",
        "\n",
        "    matrix = csr_matrix((data, (row, col)))\n",
        "    square = matrix.T * matrix\n",
        "    square.setdiag(0)\n",
        "    square = square.tocoo()\n",
        "\n",
        "    pairs = pd.DataFrame({\n",
        "        'row': square.row,\n",
        "        'col': square.col,\n",
        "        'n': square.data\n",
        "    })\n",
        "    pairs = pairs[pairs.n >= min_pairings].reset_index(drop=True)\n",
        "    return pairs, name.reindex(p['name'].cat.categories)\n",
        "\n",
        "def lookup(pairs, cat):\n",
        "    pairs = pd.concat([\n",
        "        pairs,\n",
        "        cat.iloc[pairs.row].reset_index(drop=True),\n",
        "        cat.iloc[pairs.col].reset_index(drop=True),\n",
        "    ], axis=1)\n",
        "    pairs = pairs.drop(columns=['row', 'col'])\n",
        "    pairs.columns = ['count', 'name1', 'year1', 'name2', 'year2']\n",
        "    return pairs.sort_values('count', ascending=False)"
      ]
    },
    {
      "cell_type": "code",
      "execution_count": null,
      "metadata": {
        "id": "0LP-MjOu8UBW"
      },
      "outputs": [],
      "source": [
        "pairs, cat = get_pairs(lang='IN', min_acted=1, min_pairings=1)"
      ]
    },
    {
      "cell_type": "code",
      "execution_count": null,
      "metadata": {
        "id": "SR0kaaSL9JW0"
      },
      "outputs": [],
      "source": [
        "cat"
      ]
    },
    {
      "cell_type": "code",
      "execution_count": null,
      "metadata": {
        "id": "rH1cOFTc8g2B"
      },
      "outputs": [],
      "source": [
        "pairs"
      ]
    },
    {
      "cell_type": "code",
      "execution_count": null,
      "metadata": {
        "id": "AFYDSe7h8oGS"
      },
      "outputs": [],
      "source": [
        "ForKumu = lookup(pairs, cat)\n",
        "ForKumu"
      ]
    },
    {
      "cell_type": "code",
      "execution_count": null,
      "metadata": {
        "id": "Cw_jXWQJ8rXp"
      },
      "outputs": [],
      "source": [
        "ForKumu = ForKumu[['name1', 'name2', 'count']]\n",
        "ForKumu = ForKumu.rename(columns={'name1':'From',\n",
        "                                  'name2':'To',\n",
        "                                  'count':'Strength'})\n",
        "ForKumu"
      ]
    },
    {
      "cell_type": "code",
      "execution_count": null,
      "metadata": {
        "id": "IUMfIBPN9zHw"
      },
      "outputs": [],
      "source": [
        "ForKumu.to_excel(\"pairs.xlsx\", index = False)"
      ]
    },
    {
      "cell_type": "code",
      "execution_count": null,
      "metadata": {
        "id": "8u_Gkf-Lb3Ct"
      },
      "outputs": [],
      "source": []
    }
  ],
  "metadata": {
    "colab": {
      "provenance": [],
      "include_colab_link": true
    },
    "kernelspec": {
      "display_name": "Python 3",
      "name": "python3"
    },
    "language_info": {
      "name": "python"
    }
  },
  "nbformat": 4,
  "nbformat_minor": 0
}